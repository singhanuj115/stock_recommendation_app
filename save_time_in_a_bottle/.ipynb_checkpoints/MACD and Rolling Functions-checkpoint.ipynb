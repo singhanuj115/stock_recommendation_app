{
 "cells": [
  {
   "cell_type": "markdown",
   "metadata": {
    "id": "sMtiz_uWMWvC"
   },
   "source": [
    "https://towardsdatascience.com/implementing-macd-in-python-cc9b2280126a"
   ]
  },
  {
   "cell_type": "code",
   "execution_count": 1,
   "metadata": {
    "colab": {
     "base_uri": "https://localhost:8080/",
     "height": 17
    },
    "executionInfo": {
     "elapsed": 7027,
     "status": "ok",
     "timestamp": 1606797543150,
     "user": {
      "displayName": "theweirdguy__",
      "photoUrl": "https://lh3.googleusercontent.com/a-/AOh14GjfwqYA-QyIPcIY4pXKaX4XvhmPlsfwDz899Gehj5A=s64",
      "userId": "14895470682289769220"
     },
     "user_tz": -330
    },
    "id": "YXfdh0PQMWvE",
    "outputId": "25914dd7-a4f8-41d4-d4f5-2def7391b2b8"
   },
   "outputs": [
    {
     "data": {
      "text/html": [
       "        <script type=\"text/javascript\">\n",
       "        window.PlotlyConfig = {MathJaxConfig: 'local'};\n",
       "        if (window.MathJax) {MathJax.Hub.Config({SVG: {font: \"STIX-Web\"}});}\n",
       "        if (typeof require !== 'undefined') {\n",
       "        require.undef(\"plotly\");\n",
       "        requirejs.config({\n",
       "            paths: {\n",
       "                'plotly': ['https://cdn.plot.ly/plotly-2.11.1.min']\n",
       "            }\n",
       "        });\n",
       "        require(['plotly'], function(Plotly) {\n",
       "            window._Plotly = Plotly;\n",
       "        });\n",
       "        }\n",
       "        </script>\n",
       "        "
      ]
     },
     "metadata": {},
     "output_type": "display_data"
    }
   ],
   "source": [
    "import chart_studio.plotly as py \n",
    "import cufflinks as cf\n",
    "import datetime as dt\n",
    "import pandas as pd\n",
    "import plotly.express as px\n",
    "import plotly.graph_objects as go\n",
    "import pandas_datareader.data as web\n",
    "\n",
    "\n",
    "from plotly import subplots \n",
    "from plotly.subplots import make_subplots\n",
    "from plotly.offline import download_plotlyjs, plot,iplot\n",
    "\n",
    "\n",
    "cf.go_offline()"
   ]
  },
  {
   "cell_type": "code",
   "execution_count": 2,
   "metadata": {
    "colab": {
     "base_uri": "https://localhost:8080/"
    },
    "executionInfo": {
     "elapsed": 9904,
     "status": "ok",
     "timestamp": 1606797547657,
     "user": {
      "displayName": "theweirdguy__",
      "photoUrl": "https://lh3.googleusercontent.com/a-/AOh14GjfwqYA-QyIPcIY4pXKaX4XvhmPlsfwDz899Gehj5A=s64",
      "userId": "14895470682289769220"
     },
     "user_tz": -330
    },
    "id": "uMNnDzqxNL9Q",
    "outputId": "37b47e71-ff75-470b-ec9b-8447f06d64ae"
   },
   "outputs": [],
   "source": [
    "# pip install yfinance"
   ]
  },
  {
   "cell_type": "code",
   "execution_count": 3,
   "metadata": {
    "executionInfo": {
     "elapsed": 2129,
     "status": "ok",
     "timestamp": 1606797553372,
     "user": {
      "displayName": "theweirdguy__",
      "photoUrl": "https://lh3.googleusercontent.com/a-/AOh14GjfwqYA-QyIPcIY4pXKaX4XvhmPlsfwDz899Gehj5A=s64",
      "userId": "14895470682289769220"
     },
     "user_tz": -330
    },
    "id": "QSnCJ5FFMWvF"
   },
   "outputs": [],
   "source": [
    "import chart_studio\n",
    "chart_studio.tools.set_credentials_file(username='Anuj8826', api_key='WyzvlYB6EYkp1sZ3ki2K')"
   ]
  },
  {
   "cell_type": "code",
   "execution_count": 4,
   "metadata": {
    "executionInfo": {
     "elapsed": 2561,
     "status": "ok",
     "timestamp": 1606797554289,
     "user": {
      "displayName": "theweirdguy__",
      "photoUrl": "https://lh3.googleusercontent.com/a-/AOh14GjfwqYA-QyIPcIY4pXKaX4XvhmPlsfwDz899Gehj5A=s64",
      "userId": "14895470682289769220"
     },
     "user_tz": -330
    },
    "id": "s-cnth3AMWvF"
   },
   "outputs": [],
   "source": [
    "def save_nse_bank_tickers():\n",
    "    list_of_stock_codes = list(pd.read_csv('nifty_list/niftybanklist.csv')['Symbol'])\n",
    "    return list_of_stock_codes\n",
    "\n",
    "def save_nse_pharma_tickers():\n",
    "    list_of_stock_codes = list(pd.read_csv('nifty_list/niftypharmalist.csv')['Symbol'])\n",
    "    return list_of_stock_codes\n",
    "\n",
    "def save_nse_nifty_tickers():\n",
    "    list_of_stock_codes = list(pd.read_csv('nifty_list/nifty50list.csv')['Symbol'])\n",
    "    return list_of_stock_codes"
   ]
  },
  {
   "cell_type": "code",
   "execution_count": null,
   "metadata": {
    "executionInfo": {
     "elapsed": 4727,
     "status": "ok",
     "timestamp": 1606797589150,
     "user": {
      "displayName": "theweirdguy__",
      "photoUrl": "https://lh3.googleusercontent.com/a-/AOh14GjfwqYA-QyIPcIY4pXKaX4XvhmPlsfwDz899Gehj5A=s64",
      "userId": "14895470682289769220"
     },
     "user_tz": -330
    },
    "id": "mApFa1VyYS22"
   },
   "outputs": [],
   "source": []
  },
  {
   "cell_type": "code",
   "execution_count": 5,
   "metadata": {
    "id": "TkfqpJa7YXZV"
   },
   "outputs": [],
   "source": [
    "def save_nse_500_tickers():\n",
    "    list_of_stock_codes = list(pd.read_csv('nifty_list/ind_nifty500list.csv')['Symbol'])\n",
    "    return list_of_stock_codes\n",
    "\n",
    "def save_nse_200_tickers():\n",
    "    list_of_stock_codes = list(pd.read_csv('nifty_list/ind_nifty200list.csv')['Symbol'])\n",
    "    list_of_stock_codes.remove('ACC')\n",
    "    return list_of_stock_codes\n",
    "\n",
    "def save_nse_100_tickers():\n",
    "    list_of_stock_codes = list(pd.read_csv('nifty_list/ind_nifty100list.csv')['Symbol'])\n",
    "    return list_of_stock_codes\n",
    "\n",
    "def save_nse_50_tickers():\n",
    "    list_of_stock_codes = list(pd.read_csv('nifty_list/ind_nifty50list.csv')['Symbol'])\n",
    "    return list_of_stock_codes\n",
    "\n",
    "def fetch_invested_tickers():\n",
    "    list_of_stock_codes = list(pd.read_csv('nifty_list/holdings.csv')['Instrument'])\n",
    "    return list_of_stock_codes"
   ]
  },
  {
   "cell_type": "code",
   "execution_count": null,
   "metadata": {
    "colab": {
     "base_uri": "https://localhost:8080/"
    },
    "executionInfo": {
     "elapsed": 10837,
     "status": "ok",
     "timestamp": 1606797605861,
     "user": {
      "displayName": "theweirdguy__",
      "photoUrl": "https://lh3.googleusercontent.com/a-/AOh14GjfwqYA-QyIPcIY4pXKaX4XvhmPlsfwDz899Gehj5A=s64",
      "userId": "14895470682289769220"
     },
     "user_tz": -330
    },
    "id": "DQwvgAdYMWvF",
    "outputId": "f4d57213-f1cf-4e70-8681-168a62c194a9"
   },
   "outputs": [],
   "source": [
    "nifty_50_list = fetch_invested_tickers()\n",
    "\n",
    "\n",
    "nifty_50_list = [ticker+\".NS\" for ticker in nifty_50_list]\n",
    "\n",
    "start = dt.datetime.today()- dt.timedelta(100)\n",
    "end = dt.datetime.today()\n",
    "\n",
    "# stock_info_df = yf.download(holding_list, start, end)\n",
    "stock_info_df = web.DataReader(nifty_50_list, 'yahoo', start, end)\n",
    "\n",
    "adj_close_df = stock_info_df['Adj Close']"
   ]
  },
  {
   "cell_type": "code",
   "execution_count": null,
   "metadata": {},
   "outputs": [],
   "source": [
    "adj_close_df2 = adj_close_df"
   ]
  },
  {
   "cell_type": "code",
   "execution_count": null,
   "metadata": {
    "executionInfo": {
     "elapsed": 20455,
     "status": "ok",
     "timestamp": 1606797695336,
     "user": {
      "displayName": "theweirdguy__",
      "photoUrl": "https://lh3.googleusercontent.com/a-/AOh14GjfwqYA-QyIPcIY4pXKaX4XvhmPlsfwDz899Gehj5A=s64",
      "userId": "14895470682289769220"
     },
     "user_tz": -330
    },
    "id": "y0EGnGeiMWvG"
   },
   "outputs": [],
   "source": [
    " for stock_index in adj_close_df.columns:\n",
    "    \n",
    "    adj_close_df[stock_index + \"_MA_Fast\"] = adj_close_df[stock_index].ewm(span=12, min_periods=12).mean()\n",
    "    \n",
    "    adj_close_df[stock_index + \"_MA_Slow\"] = adj_close_df[stock_index].ewm(span=26, min_periods=26).mean()\n",
    "    \n",
    "    adj_close_df[stock_index + \"_MACD\"] =  adj_close_df[stock_index + \"_MA_Fast\"] - adj_close_df[stock_index + \"_MA_Slow\"]\n",
    "    \n",
    "    adj_close_df[stock_index + \"_Signal\"] = adj_close_df[stock_index + \"_MACD\"].ewm(span=9, min_periods=9).mean()\n",
    "    \n",
    "    adj_close_df[stock_index + '_SMA_10'] = adj_close_df[stock_index].rolling(window=10).mean()"
   ]
  },
  {
   "cell_type": "code",
   "execution_count": null,
   "metadata": {
    "executionInfo": {
     "elapsed": 7559,
     "status": "ok",
     "timestamp": 1606797704465,
     "user": {
      "displayName": "theweirdguy__",
      "photoUrl": "https://lh3.googleusercontent.com/a-/AOh14GjfwqYA-QyIPcIY4pXKaX4XvhmPlsfwDz899Gehj5A=s64",
      "userId": "14895470682289769220"
     },
     "user_tz": -330
    },
    "id": "h1Z1JI9DMWvG"
   },
   "outputs": [],
   "source": [
    "# adj_close_df[adj_close_df.columns.sort_values()].dropna().head(1).to_dict('records')\n",
    "new_df = adj_close_df[adj_close_df.columns.sort_values()].dropna()"
   ]
  },
  {
   "cell_type": "code",
   "execution_count": null,
   "metadata": {
    "colab": {
     "background_save": true,
     "base_uri": "https://localhost:8080/",
     "height": 542
    },
    "executionInfo": {
     "elapsed": 5018,
     "status": "ok",
     "timestamp": 1606797718927,
     "user": {
      "displayName": "theweirdguy__",
      "photoUrl": "https://lh3.googleusercontent.com/a-/AOh14GjfwqYA-QyIPcIY4pXKaX4XvhmPlsfwDz899Gehj5A=s64",
      "userId": "14895470682289769220"
     },
     "user_tz": -330
    },
    "id": "2BLJGgzeMWvG"
   },
   "outputs": [],
   "source": [
    "new_df.iplot(theme='white', filename='MACD_NIFTY50)', world_readable=True)"
   ]
  },
  {
   "cell_type": "code",
   "execution_count": null,
   "metadata": {},
   "outputs": [],
   "source": [
    "# nifty_50_list"
   ]
  },
  {
   "cell_type": "code",
   "execution_count": null,
   "metadata": {
    "executionInfo": {
     "elapsed": 1518,
     "status": "ok",
     "timestamp": 1606797182526,
     "user": {
      "displayName": "theweirdguy__",
      "photoUrl": "https://lh3.googleusercontent.com/a-/AOh14GjfwqYA-QyIPcIY4pXKaX4XvhmPlsfwDz899Gehj5A=s64",
      "userId": "14895470682289769220"
     },
     "user_tz": -330
    },
    "id": "G3mrnixPMWvG"
   },
   "outputs": [],
   "source": [
    "# Create the plot matrix:\n",
    "fig = subplots.make_subplots(rows=50, cols=1)\n",
    "\n",
    "for sector_ticker_name in nifty_50_list:\n",
    "    try:\n",
    "        trace = new_df[[sector_ticker_name +'_MACD', sector_ticker_name +'_Signal']].iplot(kind='scatter',colorscale=\"Reds\")\n",
    "        fig.add_traces(trace)\n",
    "    except:\n",
    "        continue\n",
    "\n",
    "fig['layout'].update(height=600, width=600, title='PARTICLES CORRELATION')\n",
    "# py.plot(fig, auto_open=True, filename=\"example.html\")"
   ]
  },
  {
   "cell_type": "markdown",
   "metadata": {
    "id": "lx_9UrepMWvG"
   },
   "source": [
    "# new_df"
   ]
  },
  {
   "cell_type": "code",
   "execution_count": null,
   "metadata": {
    "colab": {
     "base_uri": "https://localhost:8080/"
    },
    "executionInfo": {
     "elapsed": 1554,
     "status": "ok",
     "timestamp": 1606797220556,
     "user": {
      "displayName": "theweirdguy__",
      "photoUrl": "https://lh3.googleusercontent.com/a-/AOh14GjfwqYA-QyIPcIY4pXKaX4XvhmPlsfwDz899Gehj5A=s64",
      "userId": "14895470682289769220"
     },
     "user_tz": -330
    },
    "id": "J9dNIH4KMWvH",
    "outputId": "666de563-b78f-4f4a-8bae-1e6e24f33ed5"
   },
   "outputs": [],
   "source": [
    "import cufflinks as cf\n",
    "\n",
    "from yahoo_fin import stock_info"
   ]
  },
  {
   "cell_type": "code",
   "execution_count": null,
   "metadata": {
    "id": "AyplHjUwMWvH"
   },
   "outputs": [],
   "source": [
    "# stock_info.get_live_price('GLENMARK.NS')\n",
    "abcd = stock_info.get_data('WIPRO.NS', start_date='01/06/2020', end_date='10/08/2020')"
   ]
  },
  {
   "cell_type": "code",
   "execution_count": null,
   "metadata": {
    "id": "bF_vSSaZMWvH"
   },
   "outputs": [],
   "source": [
    "qf = cf.QuantFig(abcd)\n",
    "# cf.datagen.ohlc().iplot(kind='candle',rangeslider=True)"
   ]
  },
  {
   "cell_type": "code",
   "execution_count": null,
   "metadata": {
    "colab": {
     "background_save": true
    },
    "id": "6n3iJrtxMWvH"
   },
   "outputs": [],
   "source": [
    "qf.add_bollinger_bands() \n",
    "qf.add_macd()\n",
    "# qf.add_adx()\n",
    "qf.add_dmi()\n",
    "qf.iplot()"
   ]
  },
  {
   "cell_type": "code",
   "execution_count": null,
   "metadata": {
    "id": "PHHE6VdhMWvL"
   },
   "outputs": [],
   "source": [
    "abcd"
   ]
  },
  {
   "cell_type": "code",
   "execution_count": null,
   "metadata": {
    "id": "HDvCDIYbMWvL"
   },
   "outputs": [],
   "source": [
    "# !pip install ta"
   ]
  },
  {
   "cell_type": "code",
   "execution_count": null,
   "metadata": {
    "id": "eIlQC2M9MWvL"
   },
   "outputs": [],
   "source": [
    "import pandas as pd\n",
    "from ta import add_all_ta_features\n",
    "from ta.utils import dropna\n",
    "from ta.volatility import BollingerBands\n",
    "\n",
    "\n",
    "# Load datas\n",
    "df = abcd\n",
    "\n",
    "# Clean NaN values\n",
    "df = dropna(df)\n",
    "\n",
    "# # Add ta features filling NaN values\n",
    "# df = add_all_ta_features(\n",
    "#     df, open=\"open\", high=\"high\", low=\"low\", close=\"close\", volume=\"volume\", fillna=True)"
   ]
  },
  {
   "cell_type": "code",
   "execution_count": null,
   "metadata": {},
   "outputs": [],
   "source": [
    "indicator_bb = BollingerBands(close=df[\"close\"], window=20, window_dev=2)"
   ]
  },
  {
   "cell_type": "code",
   "execution_count": null,
   "metadata": {},
   "outputs": [],
   "source": [
    "# Add Bollinger Bands features\n",
    "df['bb_bbm'] = indicator_bb.bollinger_mavg()\n",
    "df['bb_bbh'] = indicator_bb.bollinger_hband()\n",
    "df['bb_bbl'] = indicator_bb.bollinger_lband()\n",
    "\n",
    "# Add Bollinger Band high indicator\n",
    "df['bb_bbhi'] = indicator_bb.bollinger_hband_indicator()\n",
    "\n",
    "# Add Bollinger Band low indicator\n",
    "df['bb_bbli'] = indicator_bb.bollinger_lband_indicator()"
   ]
  },
  {
   "cell_type": "code",
   "execution_count": null,
   "metadata": {},
   "outputs": [],
   "source": [
    "df"
   ]
  },
  {
   "cell_type": "code",
   "execution_count": null,
   "metadata": {},
   "outputs": [],
   "source": [
    "fig = subplots.make_subplots(rows=50, cols=1)\n",
    "\n",
    "trace = df[['bb_bbm', 'bb_bbh', 'bb_bbl']].iplot(kind='scatter',colorscale=\"Reds\")\n",
    "fig.add_traces(trace)\n",
    "\n",
    "\n",
    "fig['layout'].update(height=600, width=600, title='PARTICLES CORRELATION')\n"
   ]
  },
  {
   "cell_type": "code",
   "execution_count": null,
   "metadata": {},
   "outputs": [],
   "source": []
  },
  {
   "cell_type": "code",
   "execution_count": null,
   "metadata": {},
   "outputs": [],
   "source": []
  },
  {
   "cell_type": "code",
   "execution_count": null,
   "metadata": {},
   "outputs": [],
   "source": [
    "for i in nifty_50_list:\n",
    "    try:\n",
    "        indicator_bb = BollingerBands(close=stock_info_df['Adj Close'][i], window=20, window_dev=2)\n",
    "        df['bb_bbm'+i] = indicator_bb.bollinger_mavg()\n",
    "        df['bb_bbh'+i] = indicator_bb.bollinger_hband()\n",
    "        df['bb_bbl'+i] = indicator_bb.bollinger_lband()\n",
    "\n",
    "        # Add Bollinger Band high indicator\n",
    "        df['bb_bbhi'+i] = indicator_bb.bollinger_hband_indicator()\n",
    "\n",
    "        # Add Bollinger Band low indicator\n",
    "        df['bb_bbli'+i] = indicator_bb.bollinger_lband_indicator()\n",
    "    except:\n",
    "        continue"
   ]
  },
  {
   "cell_type": "code",
   "execution_count": null,
   "metadata": {},
   "outputs": [],
   "source": []
  },
  {
   "cell_type": "code",
   "execution_count": null,
   "metadata": {},
   "outputs": [],
   "source": [
    "s1 = pd.Series(['a', 'b'])\n",
    "s2 = pd.Series(['c', 'd'])\n",
    "s3 = pd.Series(['e', 'd'])"
   ]
  },
  {
   "cell_type": "code",
   "execution_count": null,
   "metadata": {},
   "outputs": [],
   "source": [
    "pd.concat([s1, s2, s3], keys=['s1', 's2', 's3'])"
   ]
  },
  {
   "cell_type": "code",
   "execution_count": null,
   "metadata": {},
   "outputs": [],
   "source": [
    "df1 = pd.DataFrame([['a',1], ['b', 2]], columns=['letter', 'number'])"
   ]
  },
  {
   "cell_type": "code",
   "execution_count": null,
   "metadata": {},
   "outputs": [],
   "source": [
    "df1\n"
   ]
  },
  {
   "cell_type": "code",
   "execution_count": null,
   "metadata": {},
   "outputs": [],
   "source": [
    "df3 = pd.DataFrame([['c',3, 'cat'], ['d', 4, 'dog']], columns=['letter', 'number', 'animal'])"
   ]
  },
  {
   "cell_type": "code",
   "execution_count": null,
   "metadata": {},
   "outputs": [],
   "source": [
    "df3"
   ]
  },
  {
   "cell_type": "code",
   "execution_count": null,
   "metadata": {},
   "outputs": [],
   "source": [
    "pd.concat([df1, df3])"
   ]
  },
  {
   "cell_type": "code",
   "execution_count": null,
   "metadata": {},
   "outputs": [],
   "source": []
  }
 ],
 "metadata": {
  "colab": {
   "collapsed_sections": [],
   "name": "MACD and Rolling Functions.ipynb",
   "version": ""
  },
  "kernelspec": {
   "display_name": "Python 3 (ipykernel)",
   "language": "python",
   "name": "python3"
  },
  "language_info": {
   "codemirror_mode": {
    "name": "ipython",
    "version": 3
   },
   "file_extension": ".py",
   "mimetype": "text/x-python",
   "name": "python",
   "nbconvert_exporter": "python",
   "pygments_lexer": "ipython3",
   "version": "3.9.6"
  }
 },
 "nbformat": 4,
 "nbformat_minor": 1
}
