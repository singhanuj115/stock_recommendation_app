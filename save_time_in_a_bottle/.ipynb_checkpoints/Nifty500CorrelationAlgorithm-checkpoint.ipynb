{
 "cells": [
  {
   "cell_type": "markdown",
   "metadata": {
    "id": "f_o5kuDALEdd"
   },
   "source": [
    "# This is Nifty 500 Correlation Algorithm"
   ]
  },
  {
   "cell_type": "markdown",
   "metadata": {
    "id": "odUe1m0ELEde"
   },
   "source": [
    "## Imports"
   ]
  },
  {
   "cell_type": "code",
   "execution_count": 4,
   "metadata": {
    "executionInfo": {
     "elapsed": 1901,
     "status": "ok",
     "timestamp": 1606790909006,
     "user": {
      "displayName": "theweirdguy__",
      "photoUrl": "https://lh3.googleusercontent.com/a-/AOh14GjfwqYA-QyIPcIY4pXKaX4XvhmPlsfwDz899Gehj5A=s64",
      "userId": "14895470682289769220"
     },
     "user_tz": -330
    },
    "id": "o6Ahcn62LEde"
   },
   "outputs": [],
   "source": [
    "import os\n",
    "import pandas as pd\n",
    "import pickle\n",
    "import datetime as dt\n",
    "import matplotlib.pyplot as plt\n",
    "import numpy as np\n",
    "import pandas as pd\n",
    "import pandas_datareader.data as web\n",
    "\n",
    "from sklearn import neighbors\n",
    "\n",
    "from datetime import date\n",
    "# from nsetools import Nse\n",
    "from matplotlib import style\n",
    "# from nsepy.history import get_history\n",
    "\n",
    "from sklearn import svm\n",
    "from sklearn.model_selection import train_test_split\n",
    "from collections import Counter\n",
    "\n",
    "from sklearn.ensemble import VotingClassifier, RandomForestClassifier\n",
    "from sklearn.linear_model import LogisticRegression \n",
    "from sklearn.svm import SVC \n",
    "from sklearn.tree import DecisionTreeClassifier \n",
    "\n",
    "style.use('ggplot')"
   ]
  },
  {
   "cell_type": "markdown",
   "metadata": {
    "id": "c1BSGdoPLEdf"
   },
   "source": [
    "## SAVE THE NSE_TICKER_DATA"
   ]
  },
  {
   "cell_type": "code",
   "execution_count": 5,
   "metadata": {
    "executionInfo": {
     "elapsed": 1613,
     "status": "ok",
     "timestamp": 1606790933471,
     "user": {
      "displayName": "theweirdguy__",
      "photoUrl": "https://lh3.googleusercontent.com/a-/AOh14GjfwqYA-QyIPcIY4pXKaX4XvhmPlsfwDz899Gehj5A=s64",
      "userId": "14895470682289769220"
     },
     "user_tz": -330
    },
    "id": "qh0bgeBnLEdf"
   },
   "outputs": [],
   "source": [
    "def save_nse_500_tickers():\n",
    "    list_of_stock_codes = list(pd.read_csv('nifty_list/ind_nifty500list.csv')['Symbol'])\n",
    "    return list_of_stock_codes\n",
    "\n",
    "def save_nse_200_tickers():\n",
    "    list_of_stock_codes = list(pd.read_csv('nifty_list/ind_nifty200list.csv')['Symbol'])\n",
    "    list_of_stock_codes.remove('ACC')\n",
    "    return list_of_stock_codes\n",
    "\n",
    "def save_nse_100_tickers():\n",
    "    list_of_stock_codes = list(pd.read_csv('nifty_list/ind_nifty100list.csv')['Symbol'])\n",
    "    return list_of_stock_codes\n",
    "\n",
    "def save_nse_50_tickers():\n",
    "    list_of_stock_codes = list(pd.read_csv('nifty_list/ind_nifty50list.csv')['Symbol'])\n",
    "    return list_of_stock_codes"
   ]
  },
  {
   "cell_type": "markdown",
   "metadata": {
    "id": "9OdfR57BLEdf"
   },
   "source": [
    "## Fetch the Historical Data from NSEPY"
   ]
  },
  {
   "cell_type": "code",
   "execution_count": 6,
   "metadata": {
    "id": "RTkY-AcYLEdf"
   },
   "outputs": [],
   "source": [
    "def get_data_from_nsepy(ticker_fetch_function):\n",
    "    \n",
    "    # Create a directory if it does not exist.\n",
    "    if not os.path.exists(nse_directory):\n",
    "        os.makedirs(nse_directory)\n",
    "    \n",
    "    tickers = ticker_fetch_function\n",
    "    \n",
    "    \n",
    "    start = dt.datetime(2021, 1, 1)\n",
    "    end = dt.datetime(2021, 5, 10)\n",
    "\n",
    "    for ticker in tickers:\n",
    "        print (\"Feching the\", ticker)\n",
    "        if not os.path.exists(nse_directory + '/{}.csv'.format(ticker)):\n",
    "            \n",
    "            try:\n",
    "                # df_nse = get_history(symbol=ticker, start=start, end=end)\n",
    "                df_nse = web.DataReader(ticker + \".NS\", 'yahoo', start, end)\n",
    "            except Exception as e:\n",
    "                continue\n",
    "            \n",
    "            df_nse.to_csv(nse_directory + '/{}.csv'.format(ticker))\n",
    "            print('Dont have {}'.format(ticker))\n",
    "        else:\n",
    "            print('Already have {}'.format(ticker))\n",
    "        "
   ]
  },
  {
   "cell_type": "code",
   "execution_count": 7,
   "metadata": {
    "id": "cGsiVWSALEdf",
    "outputId": "3fc4e80e-5b1b-4ed0-fa71-7e32ccee40df"
   },
   "outputs": [
    {
     "name": "stdout",
     "output_type": "stream",
     "text": [
      "Feching the AUBANK\n",
      "Already have AUBANK\n",
      "Feching the AARTIIND\n",
      "Already have AARTIIND\n",
      "Feching the ABBOTINDIA\n",
      "Already have ABBOTINDIA\n",
      "Feching the ADANIENT\n",
      "Already have ADANIENT\n",
      "Feching the ADANIGREEN\n",
      "Already have ADANIGREEN\n",
      "Feching the ADANIPORTS\n",
      "Already have ADANIPORTS\n",
      "Feching the ATGL\n",
      "Already have ATGL\n",
      "Feching the ADANITRANS\n",
      "Already have ADANITRANS\n",
      "Feching the ABCAPITAL\n",
      "Already have ABCAPITAL\n",
      "Feching the ABFRL\n",
      "Already have ABFRL\n",
      "Feching the AJANTPHARM\n",
      "Already have AJANTPHARM\n",
      "Feching the APLLTD\n",
      "Already have APLLTD\n",
      "Feching the ALKEM\n",
      "Already have ALKEM\n",
      "Feching the AMARAJABAT\n",
      "Already have AMARAJABAT\n",
      "Feching the AMBUJACEM\n",
      "Already have AMBUJACEM\n",
      "Feching the APOLLOHOSP\n",
      "Already have APOLLOHOSP\n",
      "Feching the APOLLOTYRE\n",
      "Already have APOLLOTYRE\n",
      "Feching the ASHOKLEY\n",
      "Already have ASHOKLEY\n",
      "Feching the ASIANPAINT\n",
      "Already have ASIANPAINT\n",
      "Feching the AUROPHARMA\n",
      "Already have AUROPHARMA\n",
      "Feching the DMART\n",
      "Already have DMART\n",
      "Feching the AXISBANK\n",
      "Already have AXISBANK\n",
      "Feching the BAJAJ-AUTO\n",
      "Already have BAJAJ-AUTO\n",
      "Feching the BAJFINANCE\n",
      "Already have BAJFINANCE\n",
      "Feching the BAJAJFINSV\n",
      "Already have BAJAJFINSV\n",
      "Feching the BAJAJHLDNG\n",
      "Already have BAJAJHLDNG\n",
      "Feching the BALKRISIND\n",
      "Already have BALKRISIND\n",
      "Feching the BANDHANBNK\n",
      "Already have BANDHANBNK\n",
      "Feching the BANKBARODA\n",
      "Already have BANKBARODA\n",
      "Feching the BANKINDIA\n",
      "Already have BANKINDIA\n",
      "Feching the BATAINDIA\n",
      "Already have BATAINDIA\n",
      "Feching the BERGEPAINT\n",
      "Already have BERGEPAINT\n",
      "Feching the BEL\n",
      "Already have BEL\n",
      "Feching the BHARATFORG\n",
      "Already have BHARATFORG\n",
      "Feching the BHEL\n",
      "Already have BHEL\n",
      "Feching the BPCL\n",
      "Already have BPCL\n",
      "Feching the BHARTIARTL\n",
      "Already have BHARTIARTL\n",
      "Feching the BIOCON\n",
      "Already have BIOCON\n",
      "Feching the BBTC\n",
      "Already have BBTC\n",
      "Feching the BOSCHLTD\n",
      "Already have BOSCHLTD\n",
      "Feching the BRITANNIA\n",
      "Already have BRITANNIA\n",
      "Feching the CESC\n",
      "Already have CESC\n",
      "Feching the CADILAHC\n",
      "Already have CADILAHC\n",
      "Feching the CANBK\n",
      "Already have CANBK\n",
      "Feching the CASTROLIND\n",
      "Already have CASTROLIND\n",
      "Feching the CHOLAFIN\n",
      "Already have CHOLAFIN\n",
      "Feching the CIPLA\n",
      "Already have CIPLA\n",
      "Feching the CUB\n",
      "Already have CUB\n",
      "Feching the COALINDIA\n",
      "Already have COALINDIA\n",
      "Feching the COFORGE\n",
      "Already have COFORGE\n",
      "Feching the COLPAL\n",
      "Already have COLPAL\n",
      "Feching the CONCOR\n",
      "Already have CONCOR\n",
      "Feching the COROMANDEL\n",
      "Already have COROMANDEL\n",
      "Feching the CROMPTON\n",
      "Already have CROMPTON\n",
      "Feching the CUMMINSIND\n",
      "Already have CUMMINSIND\n",
      "Feching the DLF\n",
      "Already have DLF\n",
      "Feching the DABUR\n",
      "Already have DABUR\n",
      "Feching the DALBHARAT\n",
      "Already have DALBHARAT\n",
      "Feching the DEEPAKNTR\n",
      "Already have DEEPAKNTR\n",
      "Feching the DHANI\n",
      "Already have DHANI\n",
      "Feching the DIVISLAB\n",
      "Already have DIVISLAB\n",
      "Feching the DIXON\n",
      "Already have DIXON\n",
      "Feching the LALPATHLAB\n",
      "Already have LALPATHLAB\n",
      "Feching the DRREDDY\n",
      "Already have DRREDDY\n",
      "Feching the EICHERMOT\n",
      "Already have EICHERMOT\n",
      "Feching the EMAMILTD\n",
      "Already have EMAMILTD\n",
      "Feching the ENDURANCE\n",
      "Already have ENDURANCE\n",
      "Feching the ESCORTS\n",
      "Already have ESCORTS\n",
      "Feching the EXIDEIND\n",
      "Already have EXIDEIND\n",
      "Feching the FEDERALBNK\n",
      "Already have FEDERALBNK\n",
      "Feching the FORTIS\n",
      "Already have FORTIS\n",
      "Feching the GAIL\n",
      "Already have GAIL\n",
      "Feching the GMRINFRA\n",
      "Already have GMRINFRA\n",
      "Feching the GLENMARK\n",
      "Already have GLENMARK\n",
      "Feching the GODREJAGRO\n",
      "Already have GODREJAGRO\n",
      "Feching the GODREJCP\n",
      "Already have GODREJCP\n",
      "Feching the GODREJIND\n",
      "Already have GODREJIND\n",
      "Feching the GODREJPROP\n",
      "Already have GODREJPROP\n",
      "Feching the GRASIM\n",
      "Already have GRASIM\n",
      "Feching the GUJGASLTD\n",
      "Already have GUJGASLTD\n",
      "Feching the GSPL\n",
      "Already have GSPL\n",
      "Feching the HCLTECH\n",
      "Already have HCLTECH\n",
      "Feching the HDFCAMC\n",
      "Already have HDFCAMC\n",
      "Feching the HDFCBANK\n",
      "Already have HDFCBANK\n",
      "Feching the HDFCLIFE\n",
      "Already have HDFCLIFE\n",
      "Feching the HAVELLS\n",
      "Already have HAVELLS\n",
      "Feching the HEROMOTOCO\n",
      "Already have HEROMOTOCO\n",
      "Feching the HINDALCO\n",
      "Already have HINDALCO\n",
      "Feching the HAL\n",
      "Already have HAL\n",
      "Feching the HINDPETRO\n",
      "Already have HINDPETRO\n",
      "Feching the HINDUNILVR\n",
      "Already have HINDUNILVR\n",
      "Feching the HINDZINC\n",
      "Already have HINDZINC\n",
      "Feching the HDFC\n",
      "Already have HDFC\n",
      "Feching the ICICIBANK\n",
      "Already have ICICIBANK\n",
      "Feching the ICICIGI\n",
      "Already have ICICIGI\n",
      "Feching the ICICIPRULI\n",
      "Already have ICICIPRULI\n",
      "Feching the ISEC\n",
      "Already have ISEC\n",
      "Feching the IDFCFIRSTB\n",
      "Already have IDFCFIRSTB\n",
      "Feching the ITC\n",
      "Already have ITC\n",
      "Feching the IBULHSGFIN\n",
      "Already have IBULHSGFIN\n",
      "Feching the INDIAMART\n",
      "Already have INDIAMART\n",
      "Feching the INDHOTEL\n",
      "Already have INDHOTEL\n",
      "Feching the IOC\n",
      "Already have IOC\n",
      "Feching the IRCTC\n",
      "Already have IRCTC\n",
      "Feching the IGL\n",
      "Already have IGL\n",
      "Feching the INDUSTOWER\n",
      "Already have INDUSTOWER\n",
      "Feching the INDUSINDBK\n",
      "Already have INDUSINDBK\n",
      "Feching the NAUKRI\n",
      "Already have NAUKRI\n",
      "Feching the INFY\n",
      "Already have INFY\n",
      "Feching the INDIGO\n",
      "Already have INDIGO\n",
      "Feching the IPCALAB\n",
      "Already have IPCALAB\n",
      "Feching the JSWENERGY\n",
      "Already have JSWENERGY\n",
      "Feching the JSWSTEEL\n",
      "Already have JSWSTEEL\n",
      "Feching the JINDALSTEL\n",
      "Already have JINDALSTEL\n",
      "Feching the JUBLFOOD\n",
      "Already have JUBLFOOD\n",
      "Feching the KOTAKBANK\n",
      "Already have KOTAKBANK\n",
      "Feching the L&TFH\n",
      "Already have L&TFH\n",
      "Feching the LTTS\n",
      "Already have LTTS\n",
      "Feching the LICHSGFIN\n",
      "Already have LICHSGFIN\n",
      "Feching the LTI\n",
      "Already have LTI\n",
      "Feching the LT\n",
      "Already have LT\n",
      "Feching the LAURUSLABS\n",
      "Already have LAURUSLABS\n",
      "Feching the LUPIN\n",
      "Already have LUPIN\n",
      "Feching the MRF\n",
      "Already have MRF\n",
      "Feching the MGL\n",
      "Already have MGL\n",
      "Feching the M&MFIN\n",
      "Already have M&MFIN\n",
      "Feching the M&M\n",
      "Already have M&M\n",
      "Feching the MANAPPURAM\n",
      "Already have MANAPPURAM\n",
      "Feching the MARICO\n",
      "Already have MARICO\n",
      "Feching the MARUTI\n",
      "Already have MARUTI\n",
      "Feching the MFSL\n",
      "Already have MFSL\n",
      "Feching the MINDTREE\n",
      "Already have MINDTREE\n",
      "Feching the MOTHERSUMI\n",
      "Already have MOTHERSUMI\n",
      "Feching the MPHASIS\n",
      "Already have MPHASIS\n",
      "Feching the MUTHOOTFIN\n",
      "Already have MUTHOOTFIN\n",
      "Feching the NATCOPHARM\n",
      "Already have NATCOPHARM\n",
      "Feching the NMDC\n",
      "Already have NMDC\n",
      "Feching the NTPC\n",
      "Already have NTPC\n",
      "Feching the NAVINFLUOR\n",
      "Already have NAVINFLUOR\n",
      "Feching the NESTLEIND\n",
      "Already have NESTLEIND\n",
      "Feching the NAM-INDIA\n",
      "Already have NAM-INDIA\n",
      "Feching the OBEROIRLTY\n",
      "Already have OBEROIRLTY\n",
      "Feching the ONGC\n",
      "Already have ONGC\n",
      "Feching the OIL\n",
      "Already have OIL\n",
      "Feching the PIIND\n",
      "Already have PIIND\n",
      "Feching the PAGEIND\n",
      "Already have PAGEIND\n",
      "Feching the PETRONET\n",
      "Already have PETRONET\n",
      "Feching the PFIZER\n",
      "Already have PFIZER\n",
      "Feching the PIDILITIND\n",
      "Already have PIDILITIND\n",
      "Feching the PEL\n",
      "Already have PEL\n",
      "Feching the POLYCAB\n",
      "Already have POLYCAB\n",
      "Feching the PFC\n",
      "Already have PFC\n",
      "Feching the POWERGRID\n",
      "Already have POWERGRID\n",
      "Feching the PRESTIGE\n",
      "Already have PRESTIGE\n",
      "Feching the PGHH\n",
      "Already have PGHH\n",
      "Feching the PNB\n",
      "Already have PNB\n",
      "Feching the RBLBANK\n",
      "Already have RBLBANK\n",
      "Feching the RECLTD\n",
      "Already have RECLTD\n",
      "Feching the RELIANCE\n",
      "Already have RELIANCE\n",
      "Feching the SBICARD\n",
      "Already have SBICARD\n",
      "Feching the SBILIFE\n",
      "Already have SBILIFE\n",
      "Feching the SRF\n",
      "Already have SRF\n",
      "Feching the SANOFI\n",
      "Already have SANOFI\n",
      "Feching the SHREECEM\n",
      "Already have SHREECEM\n",
      "Feching the SRTRANSFIN\n",
      "Already have SRTRANSFIN\n",
      "Feching the SIEMENS\n",
      "Already have SIEMENS\n",
      "Feching the SBIN\n",
      "Already have SBIN\n",
      "Feching the SAIL\n",
      "Already have SAIL\n",
      "Feching the SUNPHARMA\n",
      "Already have SUNPHARMA\n",
      "Feching the SUNTV\n",
      "Already have SUNTV\n",
      "Feching the SYNGENE\n",
      "Already have SYNGENE\n",
      "Feching the TVSMOTOR\n",
      "Already have TVSMOTOR\n",
      "Feching the TATACHEM\n",
      "Already have TATACHEM\n",
      "Feching the TCS\n",
      "Already have TCS\n",
      "Feching the TATACONSUM\n",
      "Already have TATACONSUM\n",
      "Feching the TATAELXSI\n",
      "Already have TATAELXSI\n",
      "Feching the TATAMOTORS\n",
      "Already have TATAMOTORS\n",
      "Feching the TATAPOWER\n",
      "Already have TATAPOWER\n",
      "Feching the TATASTEEL\n",
      "Already have TATASTEEL\n",
      "Feching the TECHM\n",
      "Already have TECHM\n",
      "Feching the RAMCOCEM\n",
      "Already have RAMCOCEM\n",
      "Feching the TITAN\n",
      "Already have TITAN\n",
      "Feching the TORNTPHARM\n",
      "Already have TORNTPHARM\n",
      "Feching the TORNTPOWER\n",
      "Already have TORNTPOWER\n",
      "Feching the TRENT\n",
      "Already have TRENT\n",
      "Feching the UPL\n",
      "Already have UPL\n",
      "Feching the ULTRACEMCO\n",
      "Already have ULTRACEMCO\n",
      "Feching the UNIONBANK\n",
      "Already have UNIONBANK\n",
      "Feching the UBL\n",
      "Already have UBL\n",
      "Feching the MCDOWELL-N\n",
      "Already have MCDOWELL-N\n",
      "Feching the VGUARD\n",
      "Already have VGUARD\n",
      "Feching the VBL\n",
      "Already have VBL\n",
      "Feching the VEDL\n",
      "Already have VEDL\n",
      "Feching the IDEA\n",
      "Already have IDEA\n",
      "Feching the VOLTAS\n",
      "Already have VOLTAS\n",
      "Feching the WHIRLPOOL\n",
      "Already have WHIRLPOOL\n",
      "Feching the WIPRO\n",
      "Already have WIPRO\n",
      "Feching the YESBANK\n",
      "Already have YESBANK\n",
      "Feching the ZEEL\n",
      "Already have ZEEL\n"
     ]
    }
   ],
   "source": [
    "nse_directory = 'nse_data_200'\n",
    "get_data_from_nsepy(save_nse_200_tickers())"
   ]
  },
  {
   "cell_type": "markdown",
   "metadata": {
    "id": "AKUks7J6LEdi"
   },
   "source": [
    "## Compile the data into one Adjusted close of NIFTY500 Index "
   ]
  },
  {
   "cell_type": "code",
   "execution_count": 8,
   "metadata": {
    "id": "7ENcvSPILEdi"
   },
   "outputs": [],
   "source": [
    "def compile_data(ticker_fetch_function):\n",
    "    \n",
    "    tickers = ticker_fetch_function\n",
    "   \n",
    "    \n",
    "    # Remove invaid stock quotes.\n",
    "    if tickers in ['ASTERDM', 'FEDERALBNK', 'ACC', '3MINDIA']:\n",
    "        tickers.remove('ASTERDM')\n",
    "        tickers.remove('FEDERALBNK')\n",
    "        tickers.remove('ACC')\n",
    "        tickers.remove('3MINDIA')\n",
    "        \n",
    "    \n",
    "    main_df = pd.DataFrame()\n",
    "    \n",
    "    for count, ticker in enumerate(tickers):\n",
    "        df = pd.read_csv('nse_data_200/{}.csv'.format(ticker))\n",
    "        \n",
    "        # Compile the data over a interval\n",
    "        # df[(df['Date'] > '2019-1-1') & (df['Date'] <= '2020-4-30')]\n",
    "        \n",
    "        df.set_index('Date', inplace = True)\n",
    "        \n",
    "#         columns_to_be_dropped = ['Symbol', 'Series', 'Prev Close', 'Open', \n",
    "#                                  'High', 'Low', 'Last', 'VWAP', 'Volume', \n",
    "#                                  'Turnover', 'Trades', 'Deliverable Volume',\n",
    "#                                  '%Deliverble']\n",
    "\n",
    "        columns_to_be_dropped = ['Open', 'High', 'Low', 'Volume', 'Close']\n",
    "        \n",
    "        df.rename(columns = {'Adj Close' : ticker}, inplace = True)\n",
    "        df.drop(columns_to_be_dropped, 1, inplace = True)\n",
    "        df.fillna(0, inplace=True)\n",
    "        \n",
    "        if main_df.empty:\n",
    "            main_df = df\n",
    "        else:\n",
    "            main_df = main_df.join(df, how='outer')\n",
    "        \n",
    "        if count % 10 == 0:\n",
    "            print(count)\n",
    "    \n",
    "    print(main_df.head())\n",
    "    main_df.to_csv('nifty200_joined_closes.csv')"
   ]
  },
  {
   "cell_type": "code",
   "execution_count": 9,
   "metadata": {
    "id": "NAyMARHyLEdi",
    "outputId": "214f486b-9330-40c7-a51c-c9e82ccb2206"
   },
   "outputs": [
    {
     "name": "stdout",
     "output_type": "stream",
     "text": [
      "0\n",
      "10\n",
      "20\n",
      "30\n",
      "40\n",
      "50\n",
      "60\n",
      "70\n",
      "80\n",
      "90\n",
      "100\n",
      "110\n",
      "120\n",
      "130\n",
      "140\n",
      "150\n",
      "160\n",
      "170\n",
      "180\n",
      "190\n",
      "                AUBANK     AARTIIND    ABBOTINDIA    ADANIENT   ADANIGREEN  \\\n",
      "Date                                                                         \n",
      "2021-01-01  875.349976  1260.500000  15746.000000  491.149994  1065.949951   \n",
      "2021-01-04  883.250000  1282.050049  15668.049805  494.500000  1082.250000   \n",
      "2021-01-05  884.650024  1337.199951  15605.700195  494.399994  1096.449951   \n",
      "2021-01-06  889.549988  1290.550049  15550.950195  490.899994  1107.250000   \n",
      "2021-01-07  888.000000  1279.800049  15435.950195  518.099976  1063.099976   \n",
      "\n",
      "            ADANIPORTS        ATGL  ADANITRANS  ABCAPITAL       ABFRL  ...  \\\n",
      "Date                                                                   ...   \n",
      "2021-01-01  503.850006  376.799988  434.250000  89.099998  166.500000  ...   \n",
      "2021-01-04  498.899994  375.600006  441.200012  89.349998  166.800003  ...   \n",
      "2021-01-05  499.450012  373.649994  437.950012  89.650002  166.949997  ...   \n",
      "2021-01-06  496.799988  369.399994  454.250000  88.550003  166.699997  ...   \n",
      "2021-01-07  513.849976  368.200012  454.649994  92.900002  168.350006  ...   \n",
      "\n",
      "            MCDOWELL-N      VGUARD         VBL        VEDL   IDEA      VOLTAS  \\\n",
      "Date                                                                            \n",
      "2021-01-01  581.500000  187.250000  907.950012  160.399994  11.20  831.450012   \n",
      "2021-01-04  584.349976  193.699997  951.250000  170.250000  11.90  846.000000   \n",
      "2021-01-05  582.250000  194.899994  966.450012  169.000000  11.90  837.349976   \n",
      "2021-01-06  586.150024  204.800003  960.099976  180.300003  11.85  869.299988   \n",
      "2021-01-07  613.900024  216.149994  985.500000  185.500000  11.95  881.500000   \n",
      "\n",
      "              WHIRLPOOL       WIPRO  YESBANK        ZEEL  \n",
      "Date                                                      \n",
      "2021-01-01  2614.550049  387.229431     18.0  224.949997  \n",
      "2021-01-04  2599.699951  395.510803     18.0  219.050003  \n",
      "2021-01-05  2594.350098  405.388580     18.0  222.500000  \n",
      "2021-01-06  2543.300049  405.488373     18.0  221.199997  \n",
      "2021-01-07  2485.500000  405.837585     18.0  218.949997  \n",
      "\n",
      "[5 rows x 199 columns]\n"
     ]
    }
   ],
   "source": [
    "compile_data(save_nse_200_tickers())"
   ]
  },
  {
   "cell_type": "markdown",
   "metadata": {
    "id": "tFBIPZNCLEdi"
   },
   "source": [
    "## Visualization of Co-relation among companies from nifty-50"
   ]
  },
  {
   "cell_type": "code",
   "execution_count": 12,
   "metadata": {
    "id": "xsg2GU22LEdi"
   },
   "outputs": [],
   "source": [
    "def visualize_data():\n",
    "    df = pd.read_csv('nifty200_joined_closes.csv')\n",
    "    df_corr = df.corr()\n",
    "    df_corr.to_csv('correlation_data')\n",
    "    print (df_corr.head())\n",
    "    \n",
    "    data = df_corr.values\n",
    "    fig = plt.figure()\n",
    "    ax = fig.add_subplot(1,1,1)\n",
    "    \n",
    "    heatmap = ax.pcolor(data, cmap='Spectral')\n",
    "    fig.colorbar(heatmap)\n",
    "    ax.set_xticks(np.arange(data.shape[0]) + 0.5, minor=False)\n",
    "    ax.set_yticks(np.arange(data.shape[1]) + 0.5, minor=False)\n",
    "    \n",
    "    ax.invert_yaxis()\n",
    "    ax.xaxis.tick_top()\n",
    "    \n",
    "    column_labels = df_corr.columns\n",
    "    row_labels = df_corr.index\n",
    "    \n",
    "    ax.set_xticklabels(column_labels)\n",
    "    ax.set_yticklabels(row_labels)\n",
    "    plt.xticks(rotation = 90)\n",
    "    heatmap.set_clim(-1,1)\n",
    "    plt.tight_layout()\n",
    "    plt.show()"
   ]
  },
  {
   "cell_type": "code",
   "execution_count": 13,
   "metadata": {
    "id": "TWyOMRZ5LEdi",
    "outputId": "7ef579ec-07e8-404a-ae12-95042758e121"
   },
   "outputs": [
    {
     "name": "stdout",
     "output_type": "stream",
     "text": [
      "              AUBANK  AARTIIND  ABBOTINDIA  ADANIENT  ADANIGREEN  ADANIPORTS  \\\n",
      "AUBANK      1.000000  0.028552   -0.190072  0.547374    0.797768    0.740438   \n",
      "AARTIIND    0.028552  1.000000    0.633030  0.781771    0.000776    0.590376   \n",
      "ABBOTINDIA -0.190072  0.633030    1.000000  0.305392   -0.092403    0.132864   \n",
      "ADANIENT    0.547374  0.781771    0.305392  1.000000    0.437121    0.940379   \n",
      "ADANIGREEN  0.797768  0.000776   -0.092403  0.437121    1.000000    0.602440   \n",
      "\n",
      "                ATGL  ADANITRANS  ABCAPITAL     ABFRL  ...  MCDOWELL-N  \\\n",
      "AUBANK      0.393772    0.548587   0.803862  0.754528  ...         NaN   \n",
      "AARTIIND    0.836193    0.763615   0.437859  0.116192  ...         NaN   \n",
      "ABBOTINDIA  0.424317    0.299236   0.102665  0.016697  ...         NaN   \n",
      "ADANIENT    0.966573    0.988763   0.783012  0.411712  ...         NaN   \n",
      "ADANIGREEN  0.312887    0.425755   0.695572  0.661040  ...         NaN   \n",
      "\n",
      "            VGUARD  VBL  VEDL  IDEA  VOLTAS  WHIRLPOOL  WIPRO  YESBANK  ZEEL  \n",
      "AUBANK         NaN  NaN   NaN   NaN     NaN        NaN    NaN      NaN   NaN  \n",
      "AARTIIND       NaN  NaN   NaN   NaN     NaN        NaN    NaN      NaN   NaN  \n",
      "ABBOTINDIA     NaN  NaN   NaN   NaN     NaN        NaN    NaN      NaN   NaN  \n",
      "ADANIENT       NaN  NaN   NaN   NaN     NaN        NaN    NaN      NaN   NaN  \n",
      "ADANIGREEN     NaN  NaN   NaN   NaN     NaN        NaN    NaN      NaN   NaN  \n",
      "\n",
      "[5 rows x 199 columns]\n"
     ]
    },
    {
     "data": {
      "image/png": "[encoded data removed]",
      "text/plain": [
       "<Figure size 432x288 with 2 Axes>"
      ]
     },
     "metadata": {},
     "output_type": "display_data"
    }
   ],
   "source": [
    "visualize_data()"
   ]
  },
  {
   "cell_type": "code",
   "execution_count": 14,
   "metadata": {
    "id": "s0MjtivyLEdi"
   },
   "outputs": [],
   "source": [
    "# pd.read_csv(\"correlation_data\")"
   ]
  },
  {
   "cell_type": "markdown",
   "metadata": {
    "id": "TCyEdAcpLEdi"
   },
   "source": [
    "## Process data for label and create target and featuresets"
   ]
  },
  {
   "cell_type": "code",
   "execution_count": 15,
   "metadata": {
    "id": "a02hQif_LEdi"
   },
   "outputs": [],
   "source": [
    "def process_data_for_labels(ticker):\n",
    "    hm_days = 7\n",
    "    df = pd.read_csv('nifty200_joined_closes.csv', index_col = 0)\n",
    "    tickers = df.columns.values.tolist()\n",
    "    df.fillna(0, inplace=True)\n",
    "    \n",
    "    for i in range(1, hm_days+1):\n",
    "        df['{}_{}d'.format(ticker, i)] = (df[ticker].shift(-i) - df[ticker]) / df[ticker]\n",
    "        \n",
    "    df.fillna(0, inplace= True)\n",
    "    return tickers, df"
   ]
  },
  {
   "cell_type": "code",
   "execution_count": 16,
   "metadata": {
    "id": "HXz9SSGsLEdi"
   },
   "outputs": [],
   "source": [
    "def buy_sell_hold(*args):\n",
    "    cols = [c for c in args]\n",
    "    requirement = 0.030\n",
    "    for col in cols:\n",
    "        if col > requirement:\n",
    "            return 1\n",
    "        if col < -requirement:\n",
    "            return -1\n",
    "    return 0"
   ]
  },
  {
   "cell_type": "code",
   "execution_count": 17,
   "metadata": {
    "id": "hlBLXOR9LEdi"
   },
   "outputs": [],
   "source": [
    "def extract_fetauresets(ticker):\n",
    "    tickers, df = process_data_for_labels(ticker)\n",
    "    \n",
    "    df['{}_target'.format(ticker)] = list(map (buy_sell_hold, df['{}_1d'.format(ticker)],\n",
    "                                                              df['{}_2d'.format(ticker)],\n",
    "                                                              df['{}_3d'.format(ticker)],\n",
    "                                                              df['{}_4d'.format(ticker)],\n",
    "                                                              df['{}_5d'.format(ticker)],\n",
    "                                                              df['{}_6d'.format(ticker)],\n",
    "                                                              df['{}_7d'.format(ticker)]))\n",
    "    \n",
    "    vals = df['{}_target'.format(ticker)].values.tolist()\n",
    "    str_vals = [str(i) for i in vals]\n",
    "#     print('Data Spread: ', Counter(str_vals))\n",
    "    df.fillna(0, inplace=True)\n",
    "    \n",
    "    df = df.replace([np.inf, -np.inf], np.nan)\n",
    "    df.dropna(inplace=True)\n",
    "    \n",
    "    df_vals = df[[ticker for ticker in tickers]]\n",
    "    df_vals = df_vals.replace([np.inf, -np.inf], np.nan)\n",
    "    df_vals.fillna(0, inplace=True)\n",
    "    \n",
    "    X = df_vals.values\n",
    "    y = df['{}_target'.format(ticker)].values\n",
    "    \n",
    "    return X, y, df"
   ]
  },
  {
   "cell_type": "markdown",
   "metadata": {
    "id": "oe4ZsEKtLEdi"
   },
   "source": [
    "## Finally, Perform your Algorithm's Corelation on different Classifiers"
   ]
  },
  {
   "cell_type": "code",
   "execution_count": 18,
   "metadata": {
    "id": "bzZiZ-4BLEdi"
   },
   "outputs": [],
   "source": [
    "def do_ml(ticker):\n",
    "    X, y, df = extract_fetauresets(ticker)\n",
    "    \n",
    "    X_train, X_test, y_train, y_test = train_test_split(X, y, test_size=0.30)\n",
    "    \n",
    "    clf = RandomForestClassifier()\n",
    "    \n",
    "    estimator = []\n",
    "    estimator.append(('LR',  \n",
    "                  LogisticRegression(solver ='lbfgs',  \n",
    "                                     max_iter = 80, multi_class = \"auto\"))) \n",
    "    estimator.append(('SVC', SVC(gamma ='auto', probability = True))) \n",
    "    estimator.append(('DTC', DecisionTreeClassifier())) \n",
    "    \n",
    "#     clf = VotingClassifier(estimators = estimator, voting ='soft')\n",
    "    \n",
    "    clf.fit(X_train, y_train)\n",
    "    \n",
    "    confidence = clf.score(X_test, y_test)\n",
    "    print(\"Accuracy\", confidence)\n",
    "    \n",
    "    predictions = clf.predict(X_test)\n",
    "    \n",
    "    print(\"Predicted Spread: \", Counter(predictions))\n",
    "    \n",
    "    return(confidence)"
   ]
  },
  {
   "cell_type": "code",
   "execution_count": 19,
   "metadata": {
    "id": "IXdK4pdXLEdi"
   },
   "outputs": [],
   "source": [
    "X, y, df = extract_fetauresets(\"UBL\")"
   ]
  },
  {
   "cell_type": "code",
   "execution_count": 20,
   "metadata": {
    "id": "svqy0wt0LEdj"
   },
   "outputs": [],
   "source": [
    "# df"
   ]
  },
  {
   "cell_type": "markdown",
   "metadata": {
    "id": "BscnZ8WOLEdj"
   },
   "source": [
    "##  Buy sell hold data on Top 50 stocks."
   ]
  },
  {
   "cell_type": "code",
   "execution_count": 21,
   "metadata": {
    "id": "EI5idSP6LEdj"
   },
   "outputs": [],
   "source": [
    "tickers = save_nse_50_tickers()\n",
    "hold_buy_sell_df  = pd.DataFrame()\n",
    "for i in tickers:\n",
    "    X, y, df = extract_fetauresets(i)\n",
    "    hold_buy_sell_df[i] = df.loc[df.index > '2020-06-07'][i+\"_target\"]"
   ]
  },
  {
   "cell_type": "code",
   "execution_count": 22,
   "metadata": {
    "id": "gi0SsH3dLEdj"
   },
   "outputs": [
    {
     "data": {
      "text/plain": [
       "ADANIPORTS   -1\n",
       "ASIANPAINT    0\n",
       "AXISBANK      0\n",
       "BAJAJ-AUTO    0\n",
       "BAJFINANCE    0\n",
       "BAJAJFINSV    1\n",
       "BPCL          1\n",
       "BHARTIARTL    0\n",
       "BRITANNIA     0\n",
       "CIPLA         0\n",
       "COALINDIA     0\n",
       "DIVISLAB      0\n",
       "DRREDDY       0\n",
       "EICHERMOT     0\n",
       "GRASIM        0\n",
       "HCLTECH       0\n",
       "HDFCBANK      0\n",
       "HDFCLIFE      0\n",
       "HEROMOTOCO    0\n",
       "HINDALCO      0\n",
       "HINDUNILVR    0\n",
       "HDFC          0\n",
       "ICICIBANK     0\n",
       "ITC           0\n",
       "IOC           0\n",
       "INDUSINDBK    0\n",
       "INFY          0\n",
       "JSWSTEEL      0\n",
       "KOTAKBANK     0\n",
       "LT            0\n",
       "M&M           0\n",
       "MARUTI        0\n",
       "NTPC          0\n",
       "NESTLEIND     0\n",
       "ONGC          0\n",
       "POWERGRID     0\n",
       "RELIANCE      0\n",
       "SBILIFE       0\n",
       "SHREECEM      0\n",
       "SBIN          0\n",
       "SUNPHARMA     0\n",
       "TCS           0\n",
       "TATACONSUM    0\n",
       "TATAMOTORS    0\n",
       "TATASTEEL     0\n",
       "TECHM         0\n",
       "TITAN         0\n",
       "UPL           0\n",
       "ULTRACEMCO    0\n",
       "WIPRO         0\n",
       "Name: 2021-05-04, dtype: int64"
      ]
     },
     "execution_count": 22,
     "metadata": {},
     "output_type": "execute_result"
    }
   ],
   "source": [
    "hold_buy_sell_df.loc['2021-05-04']"
   ]
  },
  {
   "cell_type": "code",
   "execution_count": 23,
   "metadata": {
    "id": "zSWbn7NdLEdj",
    "outputId": "33732e31-80c5-4887-ce27-1143063b8a84"
   },
   "outputs": [
    {
     "name": "stdout",
     "output_type": "stream",
     "text": [
      "Accuracy 0.8076923076923077\n",
      "Predicted Spread:  Counter({0: 20, 1: 5, -1: 1})\n"
     ]
    },
    {
     "data": {
      "text/plain": [
       "0.8076923076923077"
      ]
     },
     "execution_count": 23,
     "metadata": {},
     "output_type": "execute_result"
    }
   ],
   "source": [
    "do_ml(\"DABUR\")"
   ]
  },
  {
   "cell_type": "markdown",
   "metadata": {
    "id": "I868XznILEdj"
   },
   "source": [
    "# Analyzing the peer stocks in IT"
   ]
  },
  {
   "cell_type": "code",
   "execution_count": 40,
   "metadata": {
    "id": "_tv4X2KwLEdj"
   },
   "outputs": [
    {
     "name": "stdout",
     "output_type": "stream",
     "text": [
      "TCS\n"
     ]
    },
    {
     "ename": "KeyError",
     "evalue": "\"['Symbol' 'Series' 'Prev Close' 'Last' 'VWAP' 'Turnover' 'Trades'\\n 'Deliverable Volume' '%Deliverble'] not found in axis\"",
     "output_type": "error",
     "traceback": [
      "\u001b[0;31m---------------------------------------------------------------------------\u001b[0m",
      "\u001b[0;31mKeyError\u001b[0m                                  Traceback (most recent call last)",
      "\u001b[0;32m<ipython-input-40-0fcc373a992c>\u001b[0m in \u001b[0;36m<module>\u001b[0;34m\u001b[0m\n\u001b[1;32m     18\u001b[0m \u001b[0;34m\u001b[0m\u001b[0m\n\u001b[1;32m     19\u001b[0m     \u001b[0mdf\u001b[0m\u001b[0;34m.\u001b[0m\u001b[0mrename\u001b[0m\u001b[0;34m(\u001b[0m\u001b[0mcolumns\u001b[0m \u001b[0;34m=\u001b[0m \u001b[0;34m{\u001b[0m\u001b[0;34m'Close'\u001b[0m \u001b[0;34m:\u001b[0m \u001b[0mticker\u001b[0m\u001b[0;34m}\u001b[0m\u001b[0;34m,\u001b[0m \u001b[0minplace\u001b[0m \u001b[0;34m=\u001b[0m \u001b[0;32mTrue\u001b[0m\u001b[0;34m)\u001b[0m\u001b[0;34m\u001b[0m\u001b[0;34m\u001b[0m\u001b[0m\n\u001b[0;32m---> 20\u001b[0;31m     \u001b[0mdf\u001b[0m\u001b[0;34m.\u001b[0m\u001b[0mdrop\u001b[0m\u001b[0;34m(\u001b[0m\u001b[0mcolumns_to_be_dropped\u001b[0m\u001b[0;34m,\u001b[0m \u001b[0;36m1\u001b[0m\u001b[0;34m,\u001b[0m \u001b[0minplace\u001b[0m \u001b[0;34m=\u001b[0m \u001b[0;32mTrue\u001b[0m\u001b[0;34m)\u001b[0m\u001b[0;34m\u001b[0m\u001b[0;34m\u001b[0m\u001b[0m\n\u001b[0m\u001b[1;32m     21\u001b[0m     \u001b[0mdf\u001b[0m\u001b[0;34m.\u001b[0m\u001b[0mfillna\u001b[0m\u001b[0;34m(\u001b[0m\u001b[0;36m0\u001b[0m\u001b[0;34m,\u001b[0m \u001b[0minplace\u001b[0m\u001b[0;34m=\u001b[0m\u001b[0;32mTrue\u001b[0m\u001b[0;34m)\u001b[0m\u001b[0;34m\u001b[0m\u001b[0;34m\u001b[0m\u001b[0m\n\u001b[1;32m     22\u001b[0m \u001b[0;34m\u001b[0m\u001b[0m\n",
      "\u001b[0;32m~/Library/Python/3.8/lib/python/site-packages/pandas/core/frame.py\u001b[0m in \u001b[0;36mdrop\u001b[0;34m(self, labels, axis, index, columns, level, inplace, errors)\u001b[0m\n\u001b[1;32m   4306\u001b[0m                 \u001b[0mweight\u001b[0m  \u001b[0;36m1.0\u001b[0m     \u001b[0;36m0.8\u001b[0m\u001b[0;34m\u001b[0m\u001b[0;34m\u001b[0m\u001b[0m\n\u001b[1;32m   4307\u001b[0m         \"\"\"\n\u001b[0;32m-> 4308\u001b[0;31m         return super().drop(\n\u001b[0m\u001b[1;32m   4309\u001b[0m             \u001b[0mlabels\u001b[0m\u001b[0;34m=\u001b[0m\u001b[0mlabels\u001b[0m\u001b[0;34m,\u001b[0m\u001b[0;34m\u001b[0m\u001b[0;34m\u001b[0m\u001b[0m\n\u001b[1;32m   4310\u001b[0m             \u001b[0maxis\u001b[0m\u001b[0;34m=\u001b[0m\u001b[0maxis\u001b[0m\u001b[0;34m,\u001b[0m\u001b[0;34m\u001b[0m\u001b[0;34m\u001b[0m\u001b[0m\n",
      "\u001b[0;32m~/Library/Python/3.8/lib/python/site-packages/pandas/core/generic.py\u001b[0m in \u001b[0;36mdrop\u001b[0;34m(self, labels, axis, index, columns, level, inplace, errors)\u001b[0m\n\u001b[1;32m   4151\u001b[0m         \u001b[0;32mfor\u001b[0m \u001b[0maxis\u001b[0m\u001b[0;34m,\u001b[0m \u001b[0mlabels\u001b[0m \u001b[0;32min\u001b[0m \u001b[0maxes\u001b[0m\u001b[0;34m.\u001b[0m\u001b[0mitems\u001b[0m\u001b[0;34m(\u001b[0m\u001b[0;34m)\u001b[0m\u001b[0;34m:\u001b[0m\u001b[0;34m\u001b[0m\u001b[0;34m\u001b[0m\u001b[0m\n\u001b[1;32m   4152\u001b[0m             \u001b[0;32mif\u001b[0m \u001b[0mlabels\u001b[0m \u001b[0;32mis\u001b[0m \u001b[0;32mnot\u001b[0m \u001b[0;32mNone\u001b[0m\u001b[0;34m:\u001b[0m\u001b[0;34m\u001b[0m\u001b[0;34m\u001b[0m\u001b[0m\n\u001b[0;32m-> 4153\u001b[0;31m                 \u001b[0mobj\u001b[0m \u001b[0;34m=\u001b[0m \u001b[0mobj\u001b[0m\u001b[0;34m.\u001b[0m\u001b[0m_drop_axis\u001b[0m\u001b[0;34m(\u001b[0m\u001b[0mlabels\u001b[0m\u001b[0;34m,\u001b[0m \u001b[0maxis\u001b[0m\u001b[0;34m,\u001b[0m \u001b[0mlevel\u001b[0m\u001b[0;34m=\u001b[0m\u001b[0mlevel\u001b[0m\u001b[0;34m,\u001b[0m \u001b[0merrors\u001b[0m\u001b[0;34m=\u001b[0m\u001b[0merrors\u001b[0m\u001b[0;34m)\u001b[0m\u001b[0;34m\u001b[0m\u001b[0;34m\u001b[0m\u001b[0m\n\u001b[0m\u001b[1;32m   4154\u001b[0m \u001b[0;34m\u001b[0m\u001b[0m\n\u001b[1;32m   4155\u001b[0m         \u001b[0;32mif\u001b[0m \u001b[0minplace\u001b[0m\u001b[0;34m:\u001b[0m\u001b[0;34m\u001b[0m\u001b[0;34m\u001b[0m\u001b[0m\n",
      "\u001b[0;32m~/Library/Python/3.8/lib/python/site-packages/pandas/core/generic.py\u001b[0m in \u001b[0;36m_drop_axis\u001b[0;34m(self, labels, axis, level, errors)\u001b[0m\n\u001b[1;32m   4186\u001b[0m                 \u001b[0mnew_axis\u001b[0m \u001b[0;34m=\u001b[0m \u001b[0maxis\u001b[0m\u001b[0;34m.\u001b[0m\u001b[0mdrop\u001b[0m\u001b[0;34m(\u001b[0m\u001b[0mlabels\u001b[0m\u001b[0;34m,\u001b[0m \u001b[0mlevel\u001b[0m\u001b[0;34m=\u001b[0m\u001b[0mlevel\u001b[0m\u001b[0;34m,\u001b[0m \u001b[0merrors\u001b[0m\u001b[0;34m=\u001b[0m\u001b[0merrors\u001b[0m\u001b[0;34m)\u001b[0m\u001b[0;34m\u001b[0m\u001b[0;34m\u001b[0m\u001b[0m\n\u001b[1;32m   4187\u001b[0m             \u001b[0;32melse\u001b[0m\u001b[0;34m:\u001b[0m\u001b[0;34m\u001b[0m\u001b[0;34m\u001b[0m\u001b[0m\n\u001b[0;32m-> 4188\u001b[0;31m                 \u001b[0mnew_axis\u001b[0m \u001b[0;34m=\u001b[0m \u001b[0maxis\u001b[0m\u001b[0;34m.\u001b[0m\u001b[0mdrop\u001b[0m\u001b[0;34m(\u001b[0m\u001b[0mlabels\u001b[0m\u001b[0;34m,\u001b[0m \u001b[0merrors\u001b[0m\u001b[0;34m=\u001b[0m\u001b[0merrors\u001b[0m\u001b[0;34m)\u001b[0m\u001b[0;34m\u001b[0m\u001b[0;34m\u001b[0m\u001b[0m\n\u001b[0m\u001b[1;32m   4189\u001b[0m             \u001b[0mresult\u001b[0m \u001b[0;34m=\u001b[0m \u001b[0mself\u001b[0m\u001b[0;34m.\u001b[0m\u001b[0mreindex\u001b[0m\u001b[0;34m(\u001b[0m\u001b[0;34m**\u001b[0m\u001b[0;34m{\u001b[0m\u001b[0maxis_name\u001b[0m\u001b[0;34m:\u001b[0m \u001b[0mnew_axis\u001b[0m\u001b[0;34m}\u001b[0m\u001b[0;34m)\u001b[0m\u001b[0;34m\u001b[0m\u001b[0;34m\u001b[0m\u001b[0m\n\u001b[1;32m   4190\u001b[0m \u001b[0;34m\u001b[0m\u001b[0m\n",
      "\u001b[0;32m~/Library/Python/3.8/lib/python/site-packages/pandas/core/indexes/base.py\u001b[0m in \u001b[0;36mdrop\u001b[0;34m(self, labels, errors)\u001b[0m\n\u001b[1;32m   5589\u001b[0m         \u001b[0;32mif\u001b[0m \u001b[0mmask\u001b[0m\u001b[0;34m.\u001b[0m\u001b[0many\u001b[0m\u001b[0;34m(\u001b[0m\u001b[0;34m)\u001b[0m\u001b[0;34m:\u001b[0m\u001b[0;34m\u001b[0m\u001b[0;34m\u001b[0m\u001b[0m\n\u001b[1;32m   5590\u001b[0m             \u001b[0;32mif\u001b[0m \u001b[0merrors\u001b[0m \u001b[0;34m!=\u001b[0m \u001b[0;34m\"ignore\"\u001b[0m\u001b[0;34m:\u001b[0m\u001b[0;34m\u001b[0m\u001b[0;34m\u001b[0m\u001b[0m\n\u001b[0;32m-> 5591\u001b[0;31m                 \u001b[0;32mraise\u001b[0m \u001b[0mKeyError\u001b[0m\u001b[0;34m(\u001b[0m\u001b[0;34mf\"{labels[mask]} not found in axis\"\u001b[0m\u001b[0;34m)\u001b[0m\u001b[0;34m\u001b[0m\u001b[0;34m\u001b[0m\u001b[0m\n\u001b[0m\u001b[1;32m   5592\u001b[0m             \u001b[0mindexer\u001b[0m \u001b[0;34m=\u001b[0m \u001b[0mindexer\u001b[0m\u001b[0;34m[\u001b[0m\u001b[0;34m~\u001b[0m\u001b[0mmask\u001b[0m\u001b[0;34m]\u001b[0m\u001b[0;34m\u001b[0m\u001b[0;34m\u001b[0m\u001b[0m\n\u001b[1;32m   5593\u001b[0m         \u001b[0;32mreturn\u001b[0m \u001b[0mself\u001b[0m\u001b[0;34m.\u001b[0m\u001b[0mdelete\u001b[0m\u001b[0;34m(\u001b[0m\u001b[0mindexer\u001b[0m\u001b[0;34m)\u001b[0m\u001b[0;34m\u001b[0m\u001b[0;34m\u001b[0m\u001b[0m\n",
      "\u001b[0;31mKeyError\u001b[0m: \"['Symbol' 'Series' 'Prev Close' 'Last' 'VWAP' 'Turnover' 'Trades'\\n 'Deliverable Volume' '%Deliverble'] not found in axis\""
     ]
    }
   ],
   "source": [
    "# Analysing your Competitors Stocks\n",
    "PEER_STOCKS = [\"TCS\", \"INFY\", \"WIPRO\", \"HCLTECH\"]\n",
    "main_df = pd.DataFrame()\n",
    "\n",
    "for ticker in PEER_STOCKS:\n",
    "    print(ticker)\n",
    "    df = pd.read_csv('nse_data_200/{}.csv'.format(ticker))\n",
    "\n",
    "    # Compile the data over a interval\n",
    "    df = df[(df['Date'] > '2021-1-1') & (df['Date'] <= '2021-5-10')]\n",
    "\n",
    "    df.set_index('Date', inplace = True)\n",
    "\n",
    "    columns_to_be_dropped = ['Symbol', 'Series', 'Prev Close', 'Open', \n",
    "                             'High', 'Low', 'Last', 'VWAP', 'Volume', \n",
    "                             'Turnover', 'Trades', 'Deliverable Volume',\n",
    "                             '%Deliverble']\n",
    "\n",
    "    df.rename(columns = {'Close' : ticker}, inplace = True)\n",
    "    df.drop(columns_to_be_dropped, 1, inplace = True)\n",
    "    df.fillna(0, inplace=True)\n",
    "\n",
    "    if main_df.empty:\n",
    "        main_df = df\n",
    "    else:\n",
    "        main_df = main_df.join(df, how='outer')\n"
   ]
  },
  {
   "cell_type": "code",
   "execution_count": null,
   "metadata": {
    "id": "G71LIIzALEdj"
   },
   "outputs": [],
   "source": [
    "pct_comp = main_df.pct_change()\n",
    "corr = pct_comp.corr()"
   ]
  },
  {
   "cell_type": "code",
   "execution_count": null,
   "metadata": {
    "id": "IoNYh4q2LEdj"
   },
   "outputs": [],
   "source": [
    "from pandas.plotting import scatter_matrix"
   ]
  },
  {
   "cell_type": "code",
   "execution_count": null,
   "metadata": {
    "id": "pylJAEpoLEdj"
   },
   "outputs": [],
   "source": [
    "scatter_matrix(pct_comp, diagonal='kde', figsize=(10, 10))"
   ]
  },
  {
   "cell_type": "code",
   "execution_count": null,
   "metadata": {
    "id": "XygQJn7yLEdj"
   },
   "outputs": [],
   "source": [
    "%matplotlib inline\n",
    "import matplotlib.pyplot as plt\n",
    "from matplotlib import style\n",
    "\n",
    "# Adjusting the size of matplotlib\n",
    "import matplotlib as mpl\n",
    "mpl.rc('figure', figsize=(8, 7))\n",
    "mpl.__version__\n",
    "\n",
    "# Adjusting the style of matplotlib\n",
    "style.use('ggplot')\n"
   ]
  },
  {
   "cell_type": "code",
   "execution_count": null,
   "metadata": {
    "id": "y3zpI9JYLEdj"
   },
   "outputs": [],
   "source": [
    "plt.imshow(corr, cmap='hot', interpolation='none')\n",
    "plt.colorbar()\n",
    "plt.xticks(range(len(corr)), corr.columns)\n",
    "plt.yticks(range(len(corr)), corr.columns);\n"
   ]
  },
  {
   "cell_type": "code",
   "execution_count": null,
   "metadata": {
    "id": "69zwXY_cLEdj"
   },
   "outputs": [],
   "source": []
  }
 ],
 "metadata": {
  "celltoolbar": "Slideshow",
  "colab": {
   "name": "Nifty500CorrelationAlgorithm.ipynb",
   "provenance": []
  },
  "kernelspec": {
   "display_name": "Python 3",
   "language": "python",
   "name": "python3"
  },
  "language_info": {
   "codemirror_mode": {
    "name": "ipython",
    "version": 3
   },
   "file_extension": ".py",
   "mimetype": "text/x-python",
   "name": "python",
   "nbconvert_exporter": "python",
   "pygments_lexer": "ipython3",
   "version": "3.8.10"
  }
 },
 "nbformat": 4,
 "nbformat_minor": 1
}
